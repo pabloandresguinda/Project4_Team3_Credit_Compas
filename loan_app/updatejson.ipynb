{
 "cells": [
  {
   "cell_type": "code",
   "execution_count": 32,
   "metadata": {},
   "outputs": [],
   "source": [
    "import json\n",
    "import psycopg2\n",
    "from decimal import Decimal"
   ]
  },
  {
   "cell_type": "code",
   "execution_count": 33,
   "metadata": {},
   "outputs": [],
   "source": [
    "# Connect to the PostgreSQL database\n",
    "conn = psycopg2.connect(\"dbname=creditcompass user=postgres password=constella\")\n",
    "cur = conn.cursor()"
   ]
  },
  {
   "cell_type": "code",
   "execution_count": 34,
   "metadata": {},
   "outputs": [],
   "source": [
    "# # Fetch data from PostgreSQL\n",
    "# queries = {\n",
    "#     \"loansapproved\": \"SELECT addr_state, COUNT(*) as loansapproved FROM loans GROUP BY addr_state;\",\n",
    "#     \"percent_loans_paid\": \"SELECT addr_state, (COUNT(CASE WHEN loan_status = 'Paid' THEN 1 END) * 100.0 / COUNT(*)) as percent_loans_paid FROM loans GROUP BY addr_state;\",\n",
    "#     \"avg_income_to_loan_ratio\": \"SELECT addr_state, AVG(income_to_loan_ratio) as avg_income_to_loan_ratio FROM loans GROUP BY addr_state;\",\n",
    "#     \"sum_loan_amnt\": \"SELECT addr_state, SUM(loan_amnt) as avg_loan_amnt FROM loans GROUP BY addr_state;\"\n",
    "# }\n",
    "\n",
    "queries = {\n",
    "    \"loansapproved\": \"\"\"\n",
    "        SELECT addr_state, COUNT(*) as loansapproved \n",
    "        FROM loans \n",
    "        GROUP BY addr_state;\n",
    "    \"\"\",\n",
    "    \n",
    "    \"percent_loans_paid\": \"\"\"\n",
    "        SELECT addr_state, \n",
    "               ROUND(COUNT(CASE WHEN loan_status = 'Paid' THEN 1 END) * 100.0 / COUNT(*), 2) as percent_loans_paid \n",
    "        FROM loans \n",
    "        GROUP BY addr_state;\n",
    "    \"\"\",\n",
    "    \n",
    "    \"avg_income_to_loan_ratio\": \"\"\"\n",
    "        SELECT addr_state, \n",
    "               ROUND(AVG(income_to_loan_ratio), 2) as avg_income_to_loan_ratio \n",
    "        FROM loans \n",
    "        GROUP BY addr_state;\n",
    "    \"\"\",\n",
    "    \n",
    "    \"sum_loan_amnt\": \"\"\"\n",
    "        SELECT addr_state, \n",
    "               TO_CHAR(SUM(loan_amnt), '999,999,999.00') as sum_loan_amnt \n",
    "        FROM loans \n",
    "        GROUP BY addr_state;\n",
    "    \"\"\"\n",
    "}\n",
    "\n"
   ]
  },
  {
   "cell_type": "code",
   "execution_count": 35,
   "metadata": {},
   "outputs": [
    {
     "ename": "UndefinedFunction",
     "evalue": "function round(double precision, integer) does not exist\nLINE 3:                ROUND(AVG(income_to_loan_ratio), 2) as avg_in...\n                       ^\nHINT:  No function matches the given name and argument types. You might need to add explicit type casts.\n",
     "output_type": "error",
     "traceback": [
      "\u001b[1;31m---------------------------------------------------------------------------\u001b[0m",
      "\u001b[1;31mUndefinedFunction\u001b[0m                         Traceback (most recent call last)",
      "Cell \u001b[1;32mIn[35], line 3\u001b[0m\n\u001b[0;32m      1\u001b[0m data \u001b[38;5;241m=\u001b[39m {}\n\u001b[0;32m      2\u001b[0m \u001b[38;5;28;01mfor\u001b[39;00m key, query \u001b[38;5;129;01min\u001b[39;00m queries\u001b[38;5;241m.\u001b[39mitems():\n\u001b[1;32m----> 3\u001b[0m     \u001b[43mcur\u001b[49m\u001b[38;5;241;43m.\u001b[39;49m\u001b[43mexecute\u001b[49m\u001b[43m(\u001b[49m\u001b[43mquery\u001b[49m\u001b[43m)\u001b[49m\n\u001b[0;32m      4\u001b[0m     rows \u001b[38;5;241m=\u001b[39m cur\u001b[38;5;241m.\u001b[39mfetchall()\n\u001b[0;32m      5\u001b[0m     data[key] \u001b[38;5;241m=\u001b[39m {row[\u001b[38;5;241m0\u001b[39m]: row[\u001b[38;5;241m1\u001b[39m] \u001b[38;5;28;01mfor\u001b[39;00m row \u001b[38;5;129;01min\u001b[39;00m rows}\n",
      "\u001b[1;31mUndefinedFunction\u001b[0m: function round(double precision, integer) does not exist\nLINE 3:                ROUND(AVG(income_to_loan_ratio), 2) as avg_in...\n                       ^\nHINT:  No function matches the given name and argument types. You might need to add explicit type casts.\n"
     ]
    }
   ],
   "source": [
    "data = {}\n",
    "for key, query in queries.items():\n",
    "    cur.execute(query)\n",
    "    rows = cur.fetchall()\n",
    "    data[key] = {row[0]: row[1] for row in rows}\n",
    "\n",
    "cur.close()\n",
    "conn.close()"
   ]
  },
  {
   "cell_type": "code",
   "execution_count": null,
   "metadata": {},
   "outputs": [],
   "source": [
    "# Function to convert Decimal to float\n",
    "def convert_decimals(obj):\n",
    "    if isinstance(obj, dict):\n",
    "        return {k: convert_decimals(v) for k, v in obj.items()}\n",
    "    elif isinstance(obj, list):\n",
    "        return [convert_decimals(i) for i in obj]\n",
    "    elif isinstance(obj, Decimal):\n",
    "        return float(obj)\n",
    "    else:\n",
    "        return obj\n"
   ]
  },
  {
   "cell_type": "code",
   "execution_count": null,
   "metadata": {},
   "outputs": [],
   "source": [
    "# Load the existing JSON file\n",
    "with open('static/us-states.json', 'r') as f:\n",
    "    json_data = json.load(f)"
   ]
  },
  {
   "cell_type": "code",
   "execution_count": null,
   "metadata": {},
   "outputs": [],
   "source": [
    "# Add data to JSON\n",
    "for feature in json_data['features']:\n",
    "    state_id = feature['id']\n",
    "    properties = feature['properties']\n",
    "    properties['loansapproved'] = data['loansapproved'].get(state_id, 0)\n",
    "    properties['percent_loans_paid'] = data['percent_loans_paid'].get(state_id, 0.0)\n",
    "    properties['avg_income_to_loan_ratio'] = data['avg_income_to_loan_ratio'].get(state_id, 0.0)\n",
    "    properties['sum_loan_amnt'] = data['sum_loan_amnt'].get(state_id, 0.0)"
   ]
  },
  {
   "cell_type": "code",
   "execution_count": null,
   "metadata": {},
   "outputs": [],
   "source": [
    "# Convert Decimal values before saving\n",
    "json_data = convert_decimals(json_data)"
   ]
  },
  {
   "cell_type": "code",
   "execution_count": null,
   "metadata": {},
   "outputs": [
    {
     "name": "stdout",
     "output_type": "stream",
     "text": [
      "Updated JSON file saved as 'static/us-states-updated.json'\n"
     ]
    }
   ],
   "source": [
    "# Save the updated JSON file\n",
    "with open('static/us-states-updated.json', 'w') as f:\n",
    "    json.dump(json_data, f, indent=4)\n",
    "\n",
    "print(\"Updated JSON file saved as 'static/us-states-updated.json'\")\n"
   ]
  },
  {
   "cell_type": "code",
   "execution_count": null,
   "metadata": {},
   "outputs": [],
   "source": []
  }
 ],
 "metadata": {
  "kernelspec": {
   "display_name": "dev",
   "language": "python",
   "name": "python3"
  },
  "language_info": {
   "codemirror_mode": {
    "name": "ipython",
    "version": 3
   },
   "file_extension": ".py",
   "mimetype": "text/x-python",
   "name": "python",
   "nbconvert_exporter": "python",
   "pygments_lexer": "ipython3",
   "version": "3.10.13"
  }
 },
 "nbformat": 4,
 "nbformat_minor": 2
}
